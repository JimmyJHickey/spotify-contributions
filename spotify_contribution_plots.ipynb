{
 "cells": [
  {
   "cell_type": "code",
   "execution_count": null,
   "metadata": {},
   "outputs": [],
   "source": [
    "import spotipy\n",
    "from spotipy.oauth2 import SpotifyClientCredentials\n",
    "import pandas as pd"
   ]
  },
  {
   "cell_type": "code",
   "execution_count": null,
   "metadata": {},
   "outputs": [],
   "source": [
    "cid = open('cid.txt', 'r').readline()\n",
    "secret = open('secret.txt', 'r').readline()"
   ]
  },
  {
   "cell_type": "code",
   "execution_count": null,
   "metadata": {},
   "outputs": [],
   "source": [
    "client_credentials_manager = SpotifyClientCredentials(client_id=cid, client_secret=secret)\n",
    "sp = spotipy.Spotify(client_credentials_manager = client_credentials_manager)"
   ]
  },
  {
   "cell_type": "code",
   "execution_count": null,
   "metadata": {},
   "outputs": [],
   "source": [
    "username_dict = {\"jimmyjhickey\": \"Jimmy\",\n",
    "                 \"12101252392\": \"Lukas\",\n",
    "                 \"aeolus9\": \"Ross\",\n",
    "                 \"wdiedrick243\": \"Will\",\n",
    "                 \"redtranscendent\": \"Michael\",\n",
    "                 \"pboelter0705\": \"Paul\",\n",
    "                 \"gabemcb\": \"Gabe\"}"
   ]
  },
  {
   "cell_type": "code",
   "execution_count": null,
   "metadata": {},
   "outputs": [],
   "source": [
    "shared_urls = [\"https://open.spotify.com/playlist/23P7MTXWrqZkaqUAzegqvI\", # gathers no moss\n",
    "               \"https://open.spotify.com/playlist/1u5KPMOFnOvWRlxyW13VFD\", # chill 90s hiphop\n",
    "               \"https://open.spotify.com/playlist/1pfolyLLz4pQ3jLRYQk7d5\", # under the covers\n",
    "               \"https://open.spotify.com/playlist/1SQjekEC7UpaFPHzidKQTd\", # songs with stawry\n",
    "               \"https://open.spotify.com/playlist/3rWCGvc62Ea50aPvdj9iZe\", # it's possible they're large\n",
    "               \"https://open.spotify.com/playlist/30Is1VfjAKbU1iqv4gFgoV\" # jimmy\n",
    "              ]"
   ]
  },
  {
   "cell_type": "code",
   "execution_count": null,
   "metadata": {},
   "outputs": [],
   "source": [
    "data = {'Username': [],\n",
    "        'Name': [],\n",
    "        'Datetime': [],\n",
    "        'Name-Date': []\n",
    "       }\n",
    "  \n",
    "# Convert the dictionary into DataFrame\n",
    "df = pd.DataFrame(data)\n"
   ]
  },
  {
   "cell_type": "code",
   "execution_count": null,
   "metadata": {},
   "outputs": [],
   "source": [
    "for uri in shared_urls:\n",
    "    playlist_URI = uri.split(\"/\")[-1].split(\"?\")[0]\n",
    "    track_uris = [x[\"track\"][\"uri\"] for x in sp.playlist_tracks(playlist_URI)[\"items\"]]\n",
    "    \n",
    "    for i in range(len(sp.playlist_tracks(playlist_URI)[\"items\"])):\n",
    "        \n",
    "        username = sp.playlist_tracks(playlist_URI)[\"items\"][i][\"added_by\"][\"id\"]\n",
    "        name = username_dict[username]\n",
    "        \n",
    "        date_time = sp.playlist_tracks(playlist_URI)[\"items\"][i][\"added_at\"]\n",
    "\n",
    "        \n",
    "        df = df.append({'Username' : username,\n",
    "                        'Name': name,\n",
    "                        'Datetime': date_time,\n",
    "                        'Name-Date': f\"{name}-{date_time.split('T')[0]}\"},\n",
    "                         ignore_index = True)"
   ]
  },
  {
   "cell_type": "code",
   "execution_count": null,
   "metadata": {},
   "outputs": [],
   "source": [
    "summary_df = df['Name-Date'].value_counts()\n",
    "summary_df = summary_df.to_frame()\n",
    "summary_df = summary_df.rename(columns = {\"Name-Date\": \"Count\"})\n",
    "summary_df.index.name = 'Name-Date'\n",
    "summary_df.reset_index(inplace=True)"
   ]
  },
  {
   "cell_type": "code",
   "execution_count": null,
   "metadata": {},
   "outputs": [],
   "source": [
    "date_format = '%Y-%m-%d'\n",
    "\n",
    "summary_df['Name'] = [ name_date.split('-')[0] for name_date in summary_df['Name-Date']]\n",
    "summary_df['Date'] = [ dt.datetime.strptime(f\"{name_date.split('-')[1]}-{name_date.split('-')[2]}-{name_date.split('-')[3]}\", date_format)\n",
    "                         for name_date in summary_df['Name-Date']]"
   ]
  },
  {
   "cell_type": "markdown",
   "metadata": {},
   "source": [
    "# Plotting"
   ]
  },
  {
   "cell_type": "code",
   "execution_count": null,
   "metadata": {},
   "outputs": [],
   "source": [
    "# https://stackoverflow.com/questions/32485907/matplotlib-and-numpy-create-a-calendar-heatmap\n",
    "import datetime as dt\n",
    "import matplotlib.pyplot as plt\n",
    "import numpy as np\n",
    "\n",
    "def calendar_array(dates, data):\n",
    "    i, j = zip(*[d.isocalendar()[1:] for d in dates])\n",
    "    i = np.array(i) - min(i)\n",
    "    j = np.array(j) - 1\n",
    "    ni = max(i) + 1\n",
    "\n",
    "    calendar = np.nan * np.zeros((7, ni))\n",
    "    calendar[j,i ] = data\n",
    "    return i, j, calendar\n",
    "\n",
    "\n",
    "def calendar_heatmap(ax, dates, data, overall_max,\n",
    "                     bg_color, fg_color,\n",
    "                     show_color_bar = True):\n",
    "    i, j, calendar = calendar_array(dates, data)\n",
    "    im = ax.imshow(calendar, interpolation='none', cmap='summer',\n",
    "                   vmin = 0, vmax = overall_max)\n",
    "\n",
    "    label_days(ax, dates, i, j, calendar)\n",
    "    label_months(ax, dates, i, j, calendar)\n",
    "    \n",
    "    ax.spines['bottom'].set_color(fg_color)\n",
    "    ax.spines['top'].set_color(fg_color) \n",
    "    ax.spines['right'].set_color(fg_color)\n",
    "    ax.spines['left'].set_color(fg_color)\n",
    "    ax.xaxis.label.set_color(fg_color)\n",
    "    ax.yaxis.label.set_color(fg_color)\n",
    "    ax.tick_params(colors=fg_color, which='both')\n",
    "    \n",
    "    if show_color_bar:\n",
    "        cb = ax.figure.colorbar(im, orientation=\"horizontal\")\n",
    "        cb.set_label('Number of songs added', color=fg_color)\n",
    "        \n",
    "        # set colorbar tick color\n",
    "        cb.ax.xaxis.set_tick_params(color=fg_color, labelcolor=fg_color)\n",
    "\n",
    "        # set colorbar edgecolor \n",
    "        cb.outline.set_edgecolor(bg_color)\n",
    "        \n",
    "\n",
    "\n",
    "def label_days(ax, dates, i, j, calendar):\n",
    "#     ni, nj = calendar.shape\n",
    "#     day_of_month = np.nan * np.zeros((ni, 7))\n",
    "#     day_of_month[i, j] = [d.day for d in dates]\n",
    "\n",
    "#     for (i, j), day in np.ndenumerate(day_of_month):\n",
    "#         if np.isfinite(day):\n",
    "#             ax.text(j, i, int(day), ha='center', va='center')\n",
    "\n",
    "    ax.set(yticks=np.arange(7), \n",
    "           yticklabels=['M', 'T', 'W', 'R', 'F', 'S', 'S'])\n",
    "    \n",
    "    ax.yaxis.tick_left()\n",
    "\n",
    "def label_months(ax, dates, i, j, calendar):\n",
    "    month_labels = np.array(['Jan', 'Feb', 'Mar', 'Apr', 'May', 'Jun', 'Jul',\n",
    "                             'Aug', 'Sep', 'Oct', 'Nov', 'Dec'])\n",
    "    months = np.array([d.month for d in dates])\n",
    "    uniq_months = sorted(set(months))\n",
    "    xticks = [i[months == m].mean() for m in uniq_months]\n",
    "    labels = [month_labels[m - 1] for m in uniq_months]\n",
    "    ax.set(xticks=xticks)\n",
    "    ax.set_xticklabels(labels, rotation=90)\n",
    "    ax.xaxis.tick_top()"
   ]
  },
  {
   "cell_type": "code",
   "execution_count": null,
   "metadata": {},
   "outputs": [],
   "source": [
    "def make_plot(ax, name, summary_df, bg_color, fg_color, show_color_bar = True): \n",
    "    \n",
    "    \n",
    "    overall_max = max(summary_df['Count'])\n",
    "    min_date = min(summary_df['Date'])\n",
    "    max_date = max(summary_df['Date'])\n",
    "    \n",
    "    subset_df = summary_df[summary_df['Name'] == name]\n",
    "    total = sum(subset_df['Count'])\n",
    "    \n",
    "    # add entries for first and last overall day\n",
    "    \n",
    "    subset_df = subset_df.append({ 'Name': name,\n",
    "                                   'Name-Date': f\"{name}-{min_date}\",\n",
    "                                   'Date':  min_date,\n",
    "                                   'Count': np.nan}, ignore_index=True)\n",
    "    subset_df = subset_df.append({ 'Name': name,\n",
    "                                   'Name-Date': f\"{name}-{min_date}\",\n",
    "                                   'Date':  max_date,\n",
    "                                   'Count': np.nan}, ignore_index=True)\n",
    "    \n",
    "#     fig, ax = plt.subplots(figsize=(6, 10))\n",
    "    \n",
    "#     fig, ax = plt.subplots(figsize=(12, 3))\n",
    "    ax.set_title(f\"{name} -- {total}\", fontsize=25, color=fg_color,\n",
    "                horizontalalignment = \"center\")\n",
    "\n",
    "\n",
    "    calendar_heatmap(ax,\n",
    "                     subset_df['Date'],\n",
    "                     subset_df['Count'],\n",
    "                     overall_max,\n",
    "                     bg_color,\n",
    "                     fg_color,\n",
    "                     show_color_bar)\n",
    "    \n",
    "    ax.set_facecolor(bg_color)"
   ]
  },
  {
   "cell_type": "code",
   "execution_count": null,
   "metadata": {},
   "outputs": [],
   "source": [
    "fig, axs = plt.subplots(nrows = 6,\n",
    "                        figsize= (10, 17)\n",
    "                       )\n",
    "bg_color = \"black\"\n",
    "fg_color = \"lightgreen\"\n",
    "\n",
    "fig.suptitle(\"Playlist contributions by person\", fontsize=40, color=fg_color, y = 1.00)\n",
    "fig.set_facecolor(bg_color)\n",
    "\n",
    "make_plot(axs[0], \"Jimmy\", summary_df, bg_color, fg_color, False)\n",
    "make_plot(axs[1], \"Ross\", summary_df, bg_color, fg_color, False)\n",
    "make_plot(axs[2], \"Lukas\", summary_df, bg_color, fg_color, False)\n",
    "make_plot(axs[3], \"Will\", summary_df, bg_color, fg_color, False)\n",
    "make_plot(axs[4], \"Michael\", summary_df, bg_color, fg_color, False)\n",
    "make_plot(axs[5], \"Gabe\", summary_df, bg_color, fg_color, True)\n",
    "\n",
    "plt.savefig('contributions_plot.png', facecolor=fig.get_facecolor(),)\n"
   ]
  },
  {
   "cell_type": "code",
   "execution_count": null,
   "metadata": {},
   "outputs": [],
   "source": []
  }
 ],
 "metadata": {
  "kernelspec": {
   "display_name": "Python 3",
   "language": "python",
   "name": "python3"
  },
  "language_info": {
   "codemirror_mode": {
    "name": "ipython",
    "version": 3
   },
   "file_extension": ".py",
   "mimetype": "text/x-python",
   "name": "python",
   "nbconvert_exporter": "python",
   "pygments_lexer": "ipython3",
   "version": "3.8.3"
  }
 },
 "nbformat": 4,
 "nbformat_minor": 4
}
