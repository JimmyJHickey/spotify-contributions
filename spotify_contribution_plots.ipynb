{
 "cells": [
  {
   "cell_type": "code",
   "execution_count": null,
   "metadata": {},
   "outputs": [],
   "source": [
    "import spotipy\n",
    "from spotipy.oauth2 import SpotifyClientCredentials\n",
    "import pandas as pd"
   ]
  },
  {
   "cell_type": "code",
   "execution_count": null,
   "metadata": {},
   "outputs": [],
   "source": [
    "# https://stackoverflow.com/questions/32485907/matplotlib-and-numpy-create-a-calendar-heatmap\n",
    "import datetime as dt\n",
    "import matplotlib.pyplot as plt\n",
    "import numpy as np\n",
    "\n",
    "def main():\n",
    "    dates, data = generate_data()\n",
    "    fig, ax = plt.subplots(figsize=(6, 10))\n",
    "    calendar_heatmap(ax, dates, data)\n",
    "    plt.show()\n",
    "\n",
    "def generate_data():\n",
    "    num = 100\n",
    "    data = np.random.randint(0, 20, num)\n",
    "    start = dt.datetime(2015, 3, 13)\n",
    "    dates = [start + dt.timedelta(days=i) for i in range(num)]\n",
    "    return dates, data\n",
    "\n",
    "def calendar_array(dates, data):\n",
    "    i, j = zip(*[d.isocalendar()[1:] for d in dates])\n",
    "    i = np.array(i) - min(i)\n",
    "    j = np.array(j) - 1\n",
    "    ni = max(i) + 1\n",
    "\n",
    "    calendar = np.nan * np.zeros((ni, 7))\n",
    "    calendar[i, j] = data\n",
    "    return i, j, calendar\n",
    "\n",
    "\n",
    "def calendar_heatmap(ax, dates, data):\n",
    "    i, j, calendar = calendar_array(dates, data)\n",
    "    im = ax.imshow(calendar, interpolation='none', cmap='hsv')\n",
    "    label_days(ax, dates, i, j, calendar)\n",
    "    label_months(ax, dates, i, j, calendar)\n",
    "    ax.figure.colorbar(im)\n",
    "\n",
    "def label_days(ax, dates, i, j, calendar):\n",
    "#     ni, nj = calendar.shape\n",
    "#     day_of_month = np.nan * np.zeros((ni, 7))\n",
    "#     day_of_month[i, j] = [d.day for d in dates]\n",
    "\n",
    "#     for (i, j), day in np.ndenumerate(day_of_month):\n",
    "#         if np.isfinite(day):\n",
    "#             ax.text(j, i, int(day), ha='center', va='center')\n",
    "\n",
    "    ax.set(xticks=np.arange(7), \n",
    "           xticklabels=['M', 'T', 'W', 'R', 'F', 'S', 'S'])\n",
    "    ax.xaxis.tick_top()\n",
    "\n",
    "def label_months(ax, dates, i, j, calendar):\n",
    "    month_labels = np.array(['Jan', 'Feb', 'Mar', 'Apr', 'May', 'Jun', 'Jul',\n",
    "                             'Aug', 'Sep', 'Oct', 'Nov', 'Dec'])\n",
    "    months = np.array([d.month for d in dates])\n",
    "    uniq_months = sorted(set(months))\n",
    "    yticks = [i[months == m].mean() for m in uniq_months]\n",
    "    labels = [month_labels[m - 1] for m in uniq_months]\n",
    "    ax.set(yticks=yticks)\n",
    "    ax.set_yticklabels(labels, rotation=90)\n",
    "\n",
    "# main()"
   ]
  },
  {
   "cell_type": "code",
   "execution_count": null,
   "metadata": {},
   "outputs": [],
   "source": [
    "cid = open('cid.txt', 'r').readline()\n",
    "secret = open('secret.txt', 'r').readline()"
   ]
  },
  {
   "cell_type": "code",
   "execution_count": null,
   "metadata": {},
   "outputs": [],
   "source": [
    "client_credentials_manager = SpotifyClientCredentials(client_id=cid, client_secret=secret)\n",
    "sp = spotipy.Spotify(client_credentials_manager = client_credentials_manager)"
   ]
  },
  {
   "cell_type": "code",
   "execution_count": null,
   "metadata": {},
   "outputs": [],
   "source": [
    "username_dict = {\"jimmyjhickey\": \"Jimmy\",\n",
    "                 \"12101252392\": \"Lukas\",\n",
    "                 \"aeolus9\": \"Ross\",\n",
    "                 \"wdiedrick243\": \"Will\",\n",
    "                 \"redtranscendent\": \"Michael\",\n",
    "                 \"pboelter0705\": \"Paul\",\n",
    "                 \"gabemcb\": \"Gabe\"}"
   ]
  },
  {
   "cell_type": "code",
   "execution_count": null,
   "metadata": {},
   "outputs": [],
   "source": [
    "shared_urls = [\"https://open.spotify.com/playlist/23P7MTXWrqZkaqUAzegqvI\", # gathers no moss\n",
    "               \"https://open.spotify.com/playlist/1u5KPMOFnOvWRlxyW13VFD\", # chill 90s hiphop\n",
    "               \"https://open.spotify.com/playlist/1pfolyLLz4pQ3jLRYQk7d5\", # under the covers\n",
    "               \"https://open.spotify.com/playlist/1SQjekEC7UpaFPHzidKQTd\", # songs with stawry\n",
    "               \"https://open.spotify.com/playlist/3rWCGvc62Ea50aPvdj9iZe\", # it's possible they're large\n",
    "               \"https://open.spotify.com/playlist/30Is1VfjAKbU1iqv4gFgoV\" # jimmy\n",
    "              ]"
   ]
  },
  {
   "cell_type": "code",
   "execution_count": null,
   "metadata": {},
   "outputs": [],
   "source": [
    "data = {'Username': [],\n",
    "        'Name': [],\n",
    "        'Datetime': [],\n",
    "        'Name-Date': []\n",
    "       }\n",
    "  \n",
    "# Convert the dictionary into DataFrame\n",
    "df = pd.DataFrame(data)\n"
   ]
  },
  {
   "cell_type": "code",
   "execution_count": null,
   "metadata": {},
   "outputs": [],
   "source": [
    "for uri in shared_urls:\n",
    "    playlist_URI = uri.split(\"/\")[-1].split(\"?\")[0]\n",
    "    track_uris = [x[\"track\"][\"uri\"] for x in sp.playlist_tracks(playlist_URI)[\"items\"]]\n",
    "    \n",
    "    for i in range(len(sp.playlist_tracks(playlist_URI)[\"items\"])):\n",
    "        \n",
    "        username = sp.playlist_tracks(playlist_URI)[\"items\"][i][\"added_by\"][\"id\"]\n",
    "        name = username_dict[username]\n",
    "        \n",
    "        date_time = sp.playlist_tracks(playlist_URI)[\"items\"][i][\"added_at\"]\n",
    "\n",
    "        \n",
    "        df = df.append({'Username' : username,\n",
    "                        'Name': name,\n",
    "                        'Datetime': date_time,\n",
    "                        'Name-Date': f\"{name}-{date_time.split('T')[0]}\"},\n",
    "                         ignore_index = True)"
   ]
  },
  {
   "cell_type": "code",
   "execution_count": null,
   "metadata": {},
   "outputs": [],
   "source": [
    "summary_df = df['Name-Date'].value_counts()\n",
    "summary_df = summary_df.to_frame()\n",
    "summary_df = summary_df.rename(columns = {\"Name-Date\": \"Count\"})\n",
    "summary_df.index.name = 'Name-Date'\n",
    "summary_df.reset_index(inplace=True)"
   ]
  },
  {
   "cell_type": "code",
   "execution_count": null,
   "metadata": {},
   "outputs": [],
   "source": [
    "date_format = '%Y-%m-%d'\n",
    "\n",
    "summary_df['Name'] = [ name_date.split('-')[0] for name_date in summary_df['Name-Date']]\n",
    "summary_df['Date'] = [ dt.datetime.strptime(f\"{name_date.split('-')[1]}-{name_date.split('-')[2]}-{name_date.split('-')[3]}\", date_format)\n",
    "                         for name_date in summary_df['Name-Date']]"
   ]
  },
  {
   "cell_type": "code",
   "execution_count": null,
   "metadata": {},
   "outputs": [],
   "source": [
    "def make_plot(name): \n",
    "    total = sum(summary_df[summary_df['Name'] == name]['Count'])\n",
    "    fig, ax = plt.subplots(figsize=(6, 10))\n",
    "    calendar_heatmap(ax,\n",
    "                     summary_df[summary_df['Name'] == name]['Date'],\n",
    "                     summary_df[summary_df['Name'] == name]['Count'])\n",
    "    fig.suptitle(f\"{name} Playlist Contributions\\nTotal={total}\")\n",
    "    plt.savefig(f'{name}_contributions_plot.png')\n",
    "\n"
   ]
  },
  {
   "cell_type": "code",
   "execution_count": null,
   "metadata": {},
   "outputs": [],
   "source": [
    "make_plot(\"Jimmy\")\n",
    "make_plot(\"Ross\")\n",
    "make_plot(\"Lukas\")\n",
    "make_plot(\"Michael\")\n",
    "make_plot(\"Will\")"
   ]
  },
  {
   "cell_type": "code",
   "execution_count": null,
   "metadata": {},
   "outputs": [],
   "source": []
  }
 ],
 "metadata": {
  "kernelspec": {
   "display_name": "Python 3",
   "language": "python",
   "name": "python3"
  },
  "language_info": {
   "codemirror_mode": {
    "name": "ipython",
    "version": 3
   },
   "file_extension": ".py",
   "mimetype": "text/x-python",
   "name": "python",
   "nbconvert_exporter": "python",
   "pygments_lexer": "ipython3",
   "version": "3.8.3"
  }
 },
 "nbformat": 4,
 "nbformat_minor": 4
}
